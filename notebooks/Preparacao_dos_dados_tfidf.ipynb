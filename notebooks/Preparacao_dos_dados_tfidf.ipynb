{
 "cells": [
  {
   "cell_type": "code",
   "execution_count": 1,
   "metadata": {
    "collapsed": true
   },
   "outputs": [],
   "source": [
    "import pandas as pd\n",
    "import numpy as np"
   ]
  },
  {
   "cell_type": "code",
   "execution_count": 2,
   "outputs": [],
   "source": [
    "df =  pd.read_csv('../data/raw_data_with_labels.csv', index_col=0)"
   ],
   "metadata": {
    "collapsed": false,
    "pycharm": {
     "name": "#%%\n"
    }
   }
  },
  {
   "cell_type": "code",
   "execution_count": 3,
   "outputs": [
    {
     "data": {
      "text/plain": "                                         watch-title    y  \\\n0  How to Become A Machine Learning Engineer | Ho...  0.0   \n1  BLOOPERS - Behind The Scenes. | DATA SCIENCE x...  0.0   \n2  Michael I. Jordan: Machine Learning: Dynamical...  1.0   \n3              Best Deep Learning Tools - Welcome.AI  0.0   \n4  Kaggle Live-Coding: RNNs for Sarcasm Detection...  1.0   \n\n       watch-view-count                            watch-time-text  \\\n0  28.028 visualizações             Publicado em 3 de set. de 2018   \n1   1.131 visualizações            Publicado em 16 de nov. de 2018   \n2   1.816 visualizações             Publicado em 2 de mai. de 2019   \n3   1.171 visualizações            Publicado em 13 de ago. de 2019   \n4   1.228 visualizações  Transmitido ao vivo em 30 de nov. de 2018   \n\n                         content_watch-info-tag-list  \\\n0                                           Educação   \n1                                    Pessoas e blogs   \n2  Licença de atribuição Creative Commons (reutil...   \n3                               Ciência e tecnologia   \n4                               Ciência e tecnologia   \n\n                                     watch7-headline  \\\n0  #MachineLearningAlgorithms #Datasciencecourse ...   \n1  #FAIL #insidezalando\\n\\n\\n\\n    BLOOPERS - Beh...   \n2  #purdue #michaelijordan #engineering\\n\\n\\n\\n  ...   \n3              Best Deep Learning Tools - Welcome.AI   \n4  Kaggle Live-Coding: RNNs for Sarcasm Detection...   \n\n                                  watch7-user-header  \\\n0  Simplilearn\\n\\n\\n\\n\\n\\n\\n\\n\\n\\n\\n\\n\\n\\n\\nCarre...   \n1  Inside Zalando\\n\\n\\n\\n\\n\\n\\n\\n\\n\\n\\n\\n\\n\\nCarr...   \n2  Purdue Engineering\\n\\n\\n\\n\\n\\n\\n\\n\\n\\n\\n\\n\\n\\n...   \n3  Welcome.AI\\n\\n\\n\\n\\n\\n\\n\\n\\n\\n\\n\\n\\n\\nCarregan...   \n4  Kaggle\\n\\n\\n\\n\\n\\n\\n\\n\\n\\n\\n\\n\\n\\nCarregando.....   \n\n                            watch8-sentiment-actions  \\\n0  28.028 visualizações\\n\\n\\n\\n\\n\\n\\n\\n601\\n\\nGos...   \n1  1.131 visualizações\\n\\n\\n\\n\\n\\n\\n\\n20\\n\\nGosto...   \n2  1.816 visualizações\\n\\n\\n\\n\\n\\n\\n\\n42\\n\\nGosto...   \n3  1.171 visualizações\\n\\n\\n\\n\\n\\n\\n\\n14\\n\\nGosto...   \n4  1.228 visualizações\\n\\n\\n\\n\\n\\n\\n\\n28\\n\\nGosto...   \n\n                                            og:image  og:image:width  \\\n0  https://i.ytimg.com/vi/-5hEYRt8JE0/maxresdefau...          1280.0   \n1  https://i.ytimg.com/vi/-7GiiT0yEyk/maxresdefau...          1280.0   \n2  https://i.ytimg.com/vi/-8yYFdV5SOc/maxresdefau...          1280.0   \n3  https://i.ytimg.com/vi/-9LLrwW1Vdo/maxresdefau...          1280.0   \n4  https://i.ytimg.com/vi/-9U84J178OQ/maxresdefau...          1280.0   \n\n   og:image:height                                     og:description  \\\n0            720.0  This video on \"How to become a Machine Learnin...   \n1            720.0  #FAIL :) Have fun - and join our teams: https:...   \n2            720.0  2019 Purdue Engineering Distinguished Lecture ...   \n3            720.0  A collection of the 5 best deep learning tools...   \n4            720.0  Join Kaggle data scientist Rachael live as she...   \n\n   og:video:width  og:video:height         og:video:tag  \\\n0          1280.0            720.0          simplilearn   \n1          1280.0            720.0    employer branding   \n2          1280.0            720.0  electrical engineer   \n3          1280.0            720.0               Watson   \n4          1280.0            720.0                   CS   \n\n                      channel_link_0  \n0  /channel/UCsvqVGtbbyHaMoevxPAq9Fg  \n1  /channel/UCTPin8TK-KRSI9zo9FoxG0g  \n2  /channel/UC8FZ6dzFVkCACLH9YoMNFog  \n3  /channel/UC_215Y7rOAsqnFkO_hnpdIg  \n4  /channel/UCSNeZleDn9c74yQc-EKnVTA  ",
      "text/html": "<div>\n<style scoped>\n    .dataframe tbody tr th:only-of-type {\n        vertical-align: middle;\n    }\n\n    .dataframe tbody tr th {\n        vertical-align: top;\n    }\n\n    .dataframe thead th {\n        text-align: right;\n    }\n</style>\n<table border=\"1\" class=\"dataframe\">\n  <thead>\n    <tr style=\"text-align: right;\">\n      <th></th>\n      <th>watch-title</th>\n      <th>y</th>\n      <th>watch-view-count</th>\n      <th>watch-time-text</th>\n      <th>content_watch-info-tag-list</th>\n      <th>watch7-headline</th>\n      <th>watch7-user-header</th>\n      <th>watch8-sentiment-actions</th>\n      <th>og:image</th>\n      <th>og:image:width</th>\n      <th>og:image:height</th>\n      <th>og:description</th>\n      <th>og:video:width</th>\n      <th>og:video:height</th>\n      <th>og:video:tag</th>\n      <th>channel_link_0</th>\n    </tr>\n  </thead>\n  <tbody>\n    <tr>\n      <th>0</th>\n      <td>How to Become A Machine Learning Engineer | Ho...</td>\n      <td>0.0</td>\n      <td>28.028 visualizações</td>\n      <td>Publicado em 3 de set. de 2018</td>\n      <td>Educação</td>\n      <td>#MachineLearningAlgorithms #Datasciencecourse ...</td>\n      <td>Simplilearn\\n\\n\\n\\n\\n\\n\\n\\n\\n\\n\\n\\n\\n\\n\\nCarre...</td>\n      <td>28.028 visualizações\\n\\n\\n\\n\\n\\n\\n\\n601\\n\\nGos...</td>\n      <td>https://i.ytimg.com/vi/-5hEYRt8JE0/maxresdefau...</td>\n      <td>1280.0</td>\n      <td>720.0</td>\n      <td>This video on \"How to become a Machine Learnin...</td>\n      <td>1280.0</td>\n      <td>720.0</td>\n      <td>simplilearn</td>\n      <td>/channel/UCsvqVGtbbyHaMoevxPAq9Fg</td>\n    </tr>\n    <tr>\n      <th>1</th>\n      <td>BLOOPERS - Behind The Scenes. | DATA SCIENCE x...</td>\n      <td>0.0</td>\n      <td>1.131 visualizações</td>\n      <td>Publicado em 16 de nov. de 2018</td>\n      <td>Pessoas e blogs</td>\n      <td>#FAIL #insidezalando\\n\\n\\n\\n    BLOOPERS - Beh...</td>\n      <td>Inside Zalando\\n\\n\\n\\n\\n\\n\\n\\n\\n\\n\\n\\n\\n\\nCarr...</td>\n      <td>1.131 visualizações\\n\\n\\n\\n\\n\\n\\n\\n20\\n\\nGosto...</td>\n      <td>https://i.ytimg.com/vi/-7GiiT0yEyk/maxresdefau...</td>\n      <td>1280.0</td>\n      <td>720.0</td>\n      <td>#FAIL :) Have fun - and join our teams: https:...</td>\n      <td>1280.0</td>\n      <td>720.0</td>\n      <td>employer branding</td>\n      <td>/channel/UCTPin8TK-KRSI9zo9FoxG0g</td>\n    </tr>\n    <tr>\n      <th>2</th>\n      <td>Michael I. Jordan: Machine Learning: Dynamical...</td>\n      <td>1.0</td>\n      <td>1.816 visualizações</td>\n      <td>Publicado em 2 de mai. de 2019</td>\n      <td>Licença de atribuição Creative Commons (reutil...</td>\n      <td>#purdue #michaelijordan #engineering\\n\\n\\n\\n  ...</td>\n      <td>Purdue Engineering\\n\\n\\n\\n\\n\\n\\n\\n\\n\\n\\n\\n\\n\\n...</td>\n      <td>1.816 visualizações\\n\\n\\n\\n\\n\\n\\n\\n42\\n\\nGosto...</td>\n      <td>https://i.ytimg.com/vi/-8yYFdV5SOc/maxresdefau...</td>\n      <td>1280.0</td>\n      <td>720.0</td>\n      <td>2019 Purdue Engineering Distinguished Lecture ...</td>\n      <td>1280.0</td>\n      <td>720.0</td>\n      <td>electrical engineer</td>\n      <td>/channel/UC8FZ6dzFVkCACLH9YoMNFog</td>\n    </tr>\n    <tr>\n      <th>3</th>\n      <td>Best Deep Learning Tools - Welcome.AI</td>\n      <td>0.0</td>\n      <td>1.171 visualizações</td>\n      <td>Publicado em 13 de ago. de 2019</td>\n      <td>Ciência e tecnologia</td>\n      <td>Best Deep Learning Tools - Welcome.AI</td>\n      <td>Welcome.AI\\n\\n\\n\\n\\n\\n\\n\\n\\n\\n\\n\\n\\n\\nCarregan...</td>\n      <td>1.171 visualizações\\n\\n\\n\\n\\n\\n\\n\\n14\\n\\nGosto...</td>\n      <td>https://i.ytimg.com/vi/-9LLrwW1Vdo/maxresdefau...</td>\n      <td>1280.0</td>\n      <td>720.0</td>\n      <td>A collection of the 5 best deep learning tools...</td>\n      <td>1280.0</td>\n      <td>720.0</td>\n      <td>Watson</td>\n      <td>/channel/UC_215Y7rOAsqnFkO_hnpdIg</td>\n    </tr>\n    <tr>\n      <th>4</th>\n      <td>Kaggle Live-Coding: RNNs for Sarcasm Detection...</td>\n      <td>1.0</td>\n      <td>1.228 visualizações</td>\n      <td>Transmitido ao vivo em 30 de nov. de 2018</td>\n      <td>Ciência e tecnologia</td>\n      <td>Kaggle Live-Coding: RNNs for Sarcasm Detection...</td>\n      <td>Kaggle\\n\\n\\n\\n\\n\\n\\n\\n\\n\\n\\n\\n\\n\\nCarregando.....</td>\n      <td>1.228 visualizações\\n\\n\\n\\n\\n\\n\\n\\n28\\n\\nGosto...</td>\n      <td>https://i.ytimg.com/vi/-9U84J178OQ/maxresdefau...</td>\n      <td>1280.0</td>\n      <td>720.0</td>\n      <td>Join Kaggle data scientist Rachael live as she...</td>\n      <td>1280.0</td>\n      <td>720.0</td>\n      <td>CS</td>\n      <td>/channel/UCSNeZleDn9c74yQc-EKnVTA</td>\n    </tr>\n  </tbody>\n</table>\n</div>"
     },
     "execution_count": 3,
     "metadata": {},
     "output_type": "execute_result"
    }
   ],
   "source": [
    "df.head()"
   ],
   "metadata": {
    "collapsed": false,
    "pycharm": {
     "name": "#%%\n"
    }
   }
  },
  {
   "cell_type": "code",
   "execution_count": 4,
   "outputs": [
    {
     "data": {
      "text/plain": "watch-title                     12\ny                              686\nwatch-view-count                12\nwatch-time-text                 12\ncontent_watch-info-tag-list     12\nwatch7-headline                 12\nwatch7-user-header              12\nwatch8-sentiment-actions        12\nog:image                        12\nog:image:width                  12\nog:image:height                 12\nog:description                  12\nog:video:width                  24\nog:video:height                 24\nog:video:tag                   158\nchannel_link_0                  12\ndtype: int64"
     },
     "execution_count": 4,
     "metadata": {},
     "output_type": "execute_result"
    }
   ],
   "source": [
    "df.isna().sum()"
   ],
   "metadata": {
    "collapsed": false,
    "pycharm": {
     "name": "#%%\n"
    }
   }
  },
  {
   "cell_type": "code",
   "execution_count": 5,
   "outputs": [
    {
     "data": {
      "text/plain": "(498, 16)"
     },
     "execution_count": 5,
     "metadata": {},
     "output_type": "execute_result"
    }
   ],
   "source": [
    "# Selecionando apenas y nao nulo\n",
    "df = df[df['y'].notnull()]\n",
    "df.shape"
   ],
   "metadata": {
    "collapsed": false,
    "pycharm": {
     "name": "#%%\n"
    }
   }
  },
  {
   "cell_type": "code",
   "execution_count": 6,
   "outputs": [
    {
     "data": {
      "text/plain": "                                           watch-title    y  \\\n496  Machine Learning With Python | Machine Learnin...  0.0   \n497             MACHINE LEARNING and AUGMENTED REALITY  0.0   \n498                                  Kaggle 대회 시작하기 #1  0.0   \n499  The Netacea Approach | Smarter Bot Management ...  1.0   \n500  Stanford CS224N: NLP with Deep Learning | Wint...  0.0   \n\n          watch-view-count                  watch-time-text  \\\n496  170.932 visualizações   Publicado em 1 de mar. de 2018   \n497   69.644 visualizações  Publicado em 31 de mai. de 2018   \n498      470 visualizações  Publicado em 10 de nov. de 2019   \n499   99.855 visualizações  Publicado em 25 de abr. de 2019   \n500   17.363 visualizações  Publicado em 21 de mar. de 2019   \n\n    content_watch-info-tag-list  \\\n496                    Educação   \n497        Ciência e tecnologia   \n498             Pessoas e blogs   \n499        Ciência e tecnologia   \n500                    Educação   \n\n                                       watch7-headline  \\\n496  Machine Learning With Python | Machine Learnin...   \n497             MACHINE LEARNING and AUGMENTED REALITY   \n498          Palos Verdes\\n\\n\\n\\n    Kaggle 대회 시작하기 #1   \n499  The Netacea Approach | Smarter Bot Management ...   \n500  Stanford CS224N: NLP with Deep Learning | Wint...   \n\n                                    watch7-user-header  \\\n496  Simplilearn\\n\\n\\n\\n\\n\\n\\n\\n\\n\\n\\n\\n\\n\\n\\nCarre...   \n497  MatthewHallberg\\n\\n\\n\\n\\n\\n\\n\\n\\n\\n\\n\\n\\n\\nCar...   \n498  LA오빠\\n\\n\\n\\n\\n\\n\\n\\n\\n\\n\\n\\n\\n\\nCarregando...\\...   \n499  Netacea\\n\\n\\n\\n\\n\\n\\n\\n\\n\\n\\n\\n\\n\\nCarregando....   \n500  stanfordonline\\n\\n\\n\\n\\n\\n\\n\\n\\n\\n\\n\\n\\n\\nCarr...   \n\n                              watch8-sentiment-actions  \\\n496  170.932 visualizações\\n\\n\\n\\n\\n\\n\\n\\n2.393\\n\\n...   \n497  69.644 visualizações\\n\\n\\n\\n\\n\\n\\n\\n1.569\\n\\nG...   \n498  470 visualizações\\n\\n\\n\\n\\n\\n\\n\\n39\\n\\nGostou ...   \n499  99.855 visualizações\\n\\n\\n\\n\\n\\n\\n\\n14\\n\\nGost...   \n500  17.363 visualizações\\n\\n\\n\\n\\n\\n\\n\\n191\\n\\nGos...   \n\n                                              og:image  og:image:width  \\\n496  https://i.ytimg.com/vi/Q59X518JZHE/maxresdefau...          1280.0   \n497  https://i.ytimg.com/vi/Q6ERFwQNkzo/maxresdefau...          1280.0   \n498  https://i.ytimg.com/vi/Q71MI-MkGhg/maxresdefau...          1280.0   \n499   https://i.ytimg.com/vi/QDh1vq9tVsY/hqdefault.jpg           480.0   \n500  https://i.ytimg.com/vi/QEw0qEa0E50/maxresdefau...          1280.0   \n\n     og:image:height                                     og:description  \\\n496            720.0  This Machine Learning with Python tutorial giv...   \n497            720.0  This tutorial is going to go through getting T...   \n498            720.0  LA오남매아빠 #LA오빠 - #즐거운DataScience 오늘은 현재 진행 중인 A...   \n499            360.0  The majority of internet traffic is now made u...   \n500            720.0  Professor Christopher Manning & PhD Candidate ...   \n\n     og:video:width  og:video:height  \\\n496          1280.0            720.0   \n497          1280.0            720.0   \n498          1280.0            720.0   \n499          1280.0            720.0   \n500          1280.0            720.0   \n\n                                 og:video:tag  \\\n496              simplilearn machine learning   \n497  image classification tensorflow tutorial   \n498                  Ashrae Energy Prediction   \n499                             Cyber threats   \n500                                       NaN   \n\n                        channel_link_0  \n496  /channel/UCsvqVGtbbyHaMoevxPAq9Fg  \n497  /channel/UClm2DY6pj3ygKoKhEVr7KFw  \n498  /channel/UCjhlZKSIRVvQxlUprmv0bdg  \n499  /channel/UCMLXUedkowSUnn5rSXKUzCQ  \n500  /channel/UCBa5G_ESCn8Yd4vw5U-gIcg  ",
      "text/html": "<div>\n<style scoped>\n    .dataframe tbody tr th:only-of-type {\n        vertical-align: middle;\n    }\n\n    .dataframe tbody tr th {\n        vertical-align: top;\n    }\n\n    .dataframe thead th {\n        text-align: right;\n    }\n</style>\n<table border=\"1\" class=\"dataframe\">\n  <thead>\n    <tr style=\"text-align: right;\">\n      <th></th>\n      <th>watch-title</th>\n      <th>y</th>\n      <th>watch-view-count</th>\n      <th>watch-time-text</th>\n      <th>content_watch-info-tag-list</th>\n      <th>watch7-headline</th>\n      <th>watch7-user-header</th>\n      <th>watch8-sentiment-actions</th>\n      <th>og:image</th>\n      <th>og:image:width</th>\n      <th>og:image:height</th>\n      <th>og:description</th>\n      <th>og:video:width</th>\n      <th>og:video:height</th>\n      <th>og:video:tag</th>\n      <th>channel_link_0</th>\n    </tr>\n  </thead>\n  <tbody>\n    <tr>\n      <th>496</th>\n      <td>Machine Learning With Python | Machine Learnin...</td>\n      <td>0.0</td>\n      <td>170.932 visualizações</td>\n      <td>Publicado em 1 de mar. de 2018</td>\n      <td>Educação</td>\n      <td>Machine Learning With Python | Machine Learnin...</td>\n      <td>Simplilearn\\n\\n\\n\\n\\n\\n\\n\\n\\n\\n\\n\\n\\n\\n\\nCarre...</td>\n      <td>170.932 visualizações\\n\\n\\n\\n\\n\\n\\n\\n2.393\\n\\n...</td>\n      <td>https://i.ytimg.com/vi/Q59X518JZHE/maxresdefau...</td>\n      <td>1280.0</td>\n      <td>720.0</td>\n      <td>This Machine Learning with Python tutorial giv...</td>\n      <td>1280.0</td>\n      <td>720.0</td>\n      <td>simplilearn machine learning</td>\n      <td>/channel/UCsvqVGtbbyHaMoevxPAq9Fg</td>\n    </tr>\n    <tr>\n      <th>497</th>\n      <td>MACHINE LEARNING and AUGMENTED REALITY</td>\n      <td>0.0</td>\n      <td>69.644 visualizações</td>\n      <td>Publicado em 31 de mai. de 2018</td>\n      <td>Ciência e tecnologia</td>\n      <td>MACHINE LEARNING and AUGMENTED REALITY</td>\n      <td>MatthewHallberg\\n\\n\\n\\n\\n\\n\\n\\n\\n\\n\\n\\n\\n\\nCar...</td>\n      <td>69.644 visualizações\\n\\n\\n\\n\\n\\n\\n\\n1.569\\n\\nG...</td>\n      <td>https://i.ytimg.com/vi/Q6ERFwQNkzo/maxresdefau...</td>\n      <td>1280.0</td>\n      <td>720.0</td>\n      <td>This tutorial is going to go through getting T...</td>\n      <td>1280.0</td>\n      <td>720.0</td>\n      <td>image classification tensorflow tutorial</td>\n      <td>/channel/UClm2DY6pj3ygKoKhEVr7KFw</td>\n    </tr>\n    <tr>\n      <th>498</th>\n      <td>Kaggle 대회 시작하기 #1</td>\n      <td>0.0</td>\n      <td>470 visualizações</td>\n      <td>Publicado em 10 de nov. de 2019</td>\n      <td>Pessoas e blogs</td>\n      <td>Palos Verdes\\n\\n\\n\\n    Kaggle 대회 시작하기 #1</td>\n      <td>LA오빠\\n\\n\\n\\n\\n\\n\\n\\n\\n\\n\\n\\n\\n\\nCarregando...\\...</td>\n      <td>470 visualizações\\n\\n\\n\\n\\n\\n\\n\\n39\\n\\nGostou ...</td>\n      <td>https://i.ytimg.com/vi/Q71MI-MkGhg/maxresdefau...</td>\n      <td>1280.0</td>\n      <td>720.0</td>\n      <td>LA오남매아빠 #LA오빠 - #즐거운DataScience 오늘은 현재 진행 중인 A...</td>\n      <td>1280.0</td>\n      <td>720.0</td>\n      <td>Ashrae Energy Prediction</td>\n      <td>/channel/UCjhlZKSIRVvQxlUprmv0bdg</td>\n    </tr>\n    <tr>\n      <th>499</th>\n      <td>The Netacea Approach | Smarter Bot Management ...</td>\n      <td>1.0</td>\n      <td>99.855 visualizações</td>\n      <td>Publicado em 25 de abr. de 2019</td>\n      <td>Ciência e tecnologia</td>\n      <td>The Netacea Approach | Smarter Bot Management ...</td>\n      <td>Netacea\\n\\n\\n\\n\\n\\n\\n\\n\\n\\n\\n\\n\\n\\nCarregando....</td>\n      <td>99.855 visualizações\\n\\n\\n\\n\\n\\n\\n\\n14\\n\\nGost...</td>\n      <td>https://i.ytimg.com/vi/QDh1vq9tVsY/hqdefault.jpg</td>\n      <td>480.0</td>\n      <td>360.0</td>\n      <td>The majority of internet traffic is now made u...</td>\n      <td>1280.0</td>\n      <td>720.0</td>\n      <td>Cyber threats</td>\n      <td>/channel/UCMLXUedkowSUnn5rSXKUzCQ</td>\n    </tr>\n    <tr>\n      <th>500</th>\n      <td>Stanford CS224N: NLP with Deep Learning | Wint...</td>\n      <td>0.0</td>\n      <td>17.363 visualizações</td>\n      <td>Publicado em 21 de mar. de 2019</td>\n      <td>Educação</td>\n      <td>Stanford CS224N: NLP with Deep Learning | Wint...</td>\n      <td>stanfordonline\\n\\n\\n\\n\\n\\n\\n\\n\\n\\n\\n\\n\\n\\nCarr...</td>\n      <td>17.363 visualizações\\n\\n\\n\\n\\n\\n\\n\\n191\\n\\nGos...</td>\n      <td>https://i.ytimg.com/vi/QEw0qEa0E50/maxresdefau...</td>\n      <td>1280.0</td>\n      <td>720.0</td>\n      <td>Professor Christopher Manning &amp; PhD Candidate ...</td>\n      <td>1280.0</td>\n      <td>720.0</td>\n      <td>NaN</td>\n      <td>/channel/UCBa5G_ESCn8Yd4vw5U-gIcg</td>\n    </tr>\n  </tbody>\n</table>\n</div>"
     },
     "execution_count": 6,
     "metadata": {},
     "output_type": "execute_result"
    }
   ],
   "source": [
    "df.tail()"
   ],
   "metadata": {
    "collapsed": false,
    "pycharm": {
     "name": "#%%\n"
    }
   }
  },
  {
   "cell_type": "code",
   "execution_count": 7,
   "outputs": [
    {
     "data": {
      "text/plain": "                                         watch-title    y  \\\n0  How to Become A Machine Learning Engineer | Ho...  0.0   \n1  BLOOPERS - Behind The Scenes. | DATA SCIENCE x...  0.0   \n2  Michael I. Jordan: Machine Learning: Dynamical...  1.0   \n3              Best Deep Learning Tools - Welcome.AI  0.0   \n4  Kaggle Live-Coding: RNNs for Sarcasm Detection...  1.0   \n\n       watch-view-count                            watch-time-text  \\\n0  28.028 visualizações             Publicado em 3 de set. de 2018   \n1   1.131 visualizações            Publicado em 16 de nov. de 2018   \n2   1.816 visualizações             Publicado em 2 de mai. de 2019   \n3   1.171 visualizações            Publicado em 13 de ago. de 2019   \n4   1.228 visualizações  Transmitido ao vivo em 30 de nov. de 2018   \n\n                         content_watch-info-tag-list  \\\n0                                           Educação   \n1                                    Pessoas e blogs   \n2  Licença de atribuição Creative Commons (reutil...   \n3                               Ciência e tecnologia   \n4                               Ciência e tecnologia   \n\n                                     watch7-headline  \\\n0  #MachineLearningAlgorithms #Datasciencecourse ...   \n1  #FAIL #insidezalando\\n\\n\\n\\n    BLOOPERS - Beh...   \n2  #purdue #michaelijordan #engineering\\n\\n\\n\\n  ...   \n3              Best Deep Learning Tools - Welcome.AI   \n4  Kaggle Live-Coding: RNNs for Sarcasm Detection...   \n\n                                  watch7-user-header  \\\n0  Simplilearn\\n\\n\\n\\n\\n\\n\\n\\n\\n\\n\\n\\n\\n\\n\\nCarre...   \n1  Inside Zalando\\n\\n\\n\\n\\n\\n\\n\\n\\n\\n\\n\\n\\n\\nCarr...   \n2  Purdue Engineering\\n\\n\\n\\n\\n\\n\\n\\n\\n\\n\\n\\n\\n\\n...   \n3  Welcome.AI\\n\\n\\n\\n\\n\\n\\n\\n\\n\\n\\n\\n\\n\\nCarregan...   \n4  Kaggle\\n\\n\\n\\n\\n\\n\\n\\n\\n\\n\\n\\n\\n\\nCarregando.....   \n\n                            watch8-sentiment-actions  \\\n0  28.028 visualizações\\n\\n\\n\\n\\n\\n\\n\\n601\\n\\nGos...   \n1  1.131 visualizações\\n\\n\\n\\n\\n\\n\\n\\n20\\n\\nGosto...   \n2  1.816 visualizações\\n\\n\\n\\n\\n\\n\\n\\n42\\n\\nGosto...   \n3  1.171 visualizações\\n\\n\\n\\n\\n\\n\\n\\n14\\n\\nGosto...   \n4  1.228 visualizações\\n\\n\\n\\n\\n\\n\\n\\n28\\n\\nGosto...   \n\n                                            og:image  og:image:width  \\\n0  https://i.ytimg.com/vi/-5hEYRt8JE0/maxresdefau...          1280.0   \n1  https://i.ytimg.com/vi/-7GiiT0yEyk/maxresdefau...          1280.0   \n2  https://i.ytimg.com/vi/-8yYFdV5SOc/maxresdefau...          1280.0   \n3  https://i.ytimg.com/vi/-9LLrwW1Vdo/maxresdefau...          1280.0   \n4  https://i.ytimg.com/vi/-9U84J178OQ/maxresdefau...          1280.0   \n\n   og:image:height                                     og:description  \\\n0            720.0  This video on \"How to become a Machine Learnin...   \n1            720.0  #FAIL :) Have fun - and join our teams: https:...   \n2            720.0  2019 Purdue Engineering Distinguished Lecture ...   \n3            720.0  A collection of the 5 best deep learning tools...   \n4            720.0  Join Kaggle data scientist Rachael live as she...   \n\n   og:video:width  og:video:height         og:video:tag  \\\n0          1280.0            720.0          simplilearn   \n1          1280.0            720.0    employer branding   \n2          1280.0            720.0  electrical engineer   \n3          1280.0            720.0               Watson   \n4          1280.0            720.0                   CS   \n\n                      channel_link_0  \n0  /channel/UCsvqVGtbbyHaMoevxPAq9Fg  \n1  /channel/UCTPin8TK-KRSI9zo9FoxG0g  \n2  /channel/UC8FZ6dzFVkCACLH9YoMNFog  \n3  /channel/UC_215Y7rOAsqnFkO_hnpdIg  \n4  /channel/UCSNeZleDn9c74yQc-EKnVTA  ",
      "text/html": "<div>\n<style scoped>\n    .dataframe tbody tr th:only-of-type {\n        vertical-align: middle;\n    }\n\n    .dataframe tbody tr th {\n        vertical-align: top;\n    }\n\n    .dataframe thead th {\n        text-align: right;\n    }\n</style>\n<table border=\"1\" class=\"dataframe\">\n  <thead>\n    <tr style=\"text-align: right;\">\n      <th></th>\n      <th>watch-title</th>\n      <th>y</th>\n      <th>watch-view-count</th>\n      <th>watch-time-text</th>\n      <th>content_watch-info-tag-list</th>\n      <th>watch7-headline</th>\n      <th>watch7-user-header</th>\n      <th>watch8-sentiment-actions</th>\n      <th>og:image</th>\n      <th>og:image:width</th>\n      <th>og:image:height</th>\n      <th>og:description</th>\n      <th>og:video:width</th>\n      <th>og:video:height</th>\n      <th>og:video:tag</th>\n      <th>channel_link_0</th>\n    </tr>\n  </thead>\n  <tbody>\n    <tr>\n      <th>0</th>\n      <td>How to Become A Machine Learning Engineer | Ho...</td>\n      <td>0.0</td>\n      <td>28.028 visualizações</td>\n      <td>Publicado em 3 de set. de 2018</td>\n      <td>Educação</td>\n      <td>#MachineLearningAlgorithms #Datasciencecourse ...</td>\n      <td>Simplilearn\\n\\n\\n\\n\\n\\n\\n\\n\\n\\n\\n\\n\\n\\n\\nCarre...</td>\n      <td>28.028 visualizações\\n\\n\\n\\n\\n\\n\\n\\n601\\n\\nGos...</td>\n      <td>https://i.ytimg.com/vi/-5hEYRt8JE0/maxresdefau...</td>\n      <td>1280.0</td>\n      <td>720.0</td>\n      <td>This video on \"How to become a Machine Learnin...</td>\n      <td>1280.0</td>\n      <td>720.0</td>\n      <td>simplilearn</td>\n      <td>/channel/UCsvqVGtbbyHaMoevxPAq9Fg</td>\n    </tr>\n    <tr>\n      <th>1</th>\n      <td>BLOOPERS - Behind The Scenes. | DATA SCIENCE x...</td>\n      <td>0.0</td>\n      <td>1.131 visualizações</td>\n      <td>Publicado em 16 de nov. de 2018</td>\n      <td>Pessoas e blogs</td>\n      <td>#FAIL #insidezalando\\n\\n\\n\\n    BLOOPERS - Beh...</td>\n      <td>Inside Zalando\\n\\n\\n\\n\\n\\n\\n\\n\\n\\n\\n\\n\\n\\nCarr...</td>\n      <td>1.131 visualizações\\n\\n\\n\\n\\n\\n\\n\\n20\\n\\nGosto...</td>\n      <td>https://i.ytimg.com/vi/-7GiiT0yEyk/maxresdefau...</td>\n      <td>1280.0</td>\n      <td>720.0</td>\n      <td>#FAIL :) Have fun - and join our teams: https:...</td>\n      <td>1280.0</td>\n      <td>720.0</td>\n      <td>employer branding</td>\n      <td>/channel/UCTPin8TK-KRSI9zo9FoxG0g</td>\n    </tr>\n    <tr>\n      <th>2</th>\n      <td>Michael I. Jordan: Machine Learning: Dynamical...</td>\n      <td>1.0</td>\n      <td>1.816 visualizações</td>\n      <td>Publicado em 2 de mai. de 2019</td>\n      <td>Licença de atribuição Creative Commons (reutil...</td>\n      <td>#purdue #michaelijordan #engineering\\n\\n\\n\\n  ...</td>\n      <td>Purdue Engineering\\n\\n\\n\\n\\n\\n\\n\\n\\n\\n\\n\\n\\n\\n...</td>\n      <td>1.816 visualizações\\n\\n\\n\\n\\n\\n\\n\\n42\\n\\nGosto...</td>\n      <td>https://i.ytimg.com/vi/-8yYFdV5SOc/maxresdefau...</td>\n      <td>1280.0</td>\n      <td>720.0</td>\n      <td>2019 Purdue Engineering Distinguished Lecture ...</td>\n      <td>1280.0</td>\n      <td>720.0</td>\n      <td>electrical engineer</td>\n      <td>/channel/UC8FZ6dzFVkCACLH9YoMNFog</td>\n    </tr>\n    <tr>\n      <th>3</th>\n      <td>Best Deep Learning Tools - Welcome.AI</td>\n      <td>0.0</td>\n      <td>1.171 visualizações</td>\n      <td>Publicado em 13 de ago. de 2019</td>\n      <td>Ciência e tecnologia</td>\n      <td>Best Deep Learning Tools - Welcome.AI</td>\n      <td>Welcome.AI\\n\\n\\n\\n\\n\\n\\n\\n\\n\\n\\n\\n\\n\\nCarregan...</td>\n      <td>1.171 visualizações\\n\\n\\n\\n\\n\\n\\n\\n14\\n\\nGosto...</td>\n      <td>https://i.ytimg.com/vi/-9LLrwW1Vdo/maxresdefau...</td>\n      <td>1280.0</td>\n      <td>720.0</td>\n      <td>A collection of the 5 best deep learning tools...</td>\n      <td>1280.0</td>\n      <td>720.0</td>\n      <td>Watson</td>\n      <td>/channel/UC_215Y7rOAsqnFkO_hnpdIg</td>\n    </tr>\n    <tr>\n      <th>4</th>\n      <td>Kaggle Live-Coding: RNNs for Sarcasm Detection...</td>\n      <td>1.0</td>\n      <td>1.228 visualizações</td>\n      <td>Transmitido ao vivo em 30 de nov. de 2018</td>\n      <td>Ciência e tecnologia</td>\n      <td>Kaggle Live-Coding: RNNs for Sarcasm Detection...</td>\n      <td>Kaggle\\n\\n\\n\\n\\n\\n\\n\\n\\n\\n\\n\\n\\n\\nCarregando.....</td>\n      <td>1.228 visualizações\\n\\n\\n\\n\\n\\n\\n\\n28\\n\\nGosto...</td>\n      <td>https://i.ytimg.com/vi/-9U84J178OQ/maxresdefau...</td>\n      <td>1280.0</td>\n      <td>720.0</td>\n      <td>Join Kaggle data scientist Rachael live as she...</td>\n      <td>1280.0</td>\n      <td>720.0</td>\n      <td>CS</td>\n      <td>/channel/UCSNeZleDn9c74yQc-EKnVTA</td>\n    </tr>\n  </tbody>\n</table>\n</div>"
     },
     "execution_count": 7,
     "metadata": {},
     "output_type": "execute_result"
    }
   ],
   "source": [
    "df.head()"
   ],
   "metadata": {
    "collapsed": false,
    "pycharm": {
     "name": "#%%\n"
    }
   }
  },
  {
   "cell_type": "code",
   "execution_count": 8,
   "outputs": [],
   "source": [
    "df_limpo = pd.DataFrame(index=df.index)"
   ],
   "metadata": {
    "collapsed": false,
    "pycharm": {
     "name": "#%%\n"
    }
   }
  },
  {
   "cell_type": "code",
   "execution_count": 9,
   "outputs": [],
   "source": [
    "df_limpo['title'] = df['watch-title']"
   ],
   "metadata": {
    "collapsed": false,
    "pycharm": {
     "name": "#%%\n"
    }
   }
  },
  {
   "cell_type": "code",
   "execution_count": 10,
   "outputs": [
    {
     "data": {
      "text/plain": "                                                 title\n0    How to Become A Machine Learning Engineer | Ho...\n1    BLOOPERS - Behind The Scenes. | DATA SCIENCE x...\n2    Michael I. Jordan: Machine Learning: Dynamical...\n3                Best Deep Learning Tools - Welcome.AI\n4    Kaggle Live-Coding: RNNs for Sarcasm Detection...\n..                                                 ...\n496  Machine Learning With Python | Machine Learnin...\n497             MACHINE LEARNING and AUGMENTED REALITY\n498                                  Kaggle 대회 시작하기 #1\n499  The Netacea Approach | Smarter Bot Management ...\n500  Stanford CS224N: NLP with Deep Learning | Wint...\n\n[498 rows x 1 columns]",
      "text/html": "<div>\n<style scoped>\n    .dataframe tbody tr th:only-of-type {\n        vertical-align: middle;\n    }\n\n    .dataframe tbody tr th {\n        vertical-align: top;\n    }\n\n    .dataframe thead th {\n        text-align: right;\n    }\n</style>\n<table border=\"1\" class=\"dataframe\">\n  <thead>\n    <tr style=\"text-align: right;\">\n      <th></th>\n      <th>title</th>\n    </tr>\n  </thead>\n  <tbody>\n    <tr>\n      <th>0</th>\n      <td>How to Become A Machine Learning Engineer | Ho...</td>\n    </tr>\n    <tr>\n      <th>1</th>\n      <td>BLOOPERS - Behind The Scenes. | DATA SCIENCE x...</td>\n    </tr>\n    <tr>\n      <th>2</th>\n      <td>Michael I. Jordan: Machine Learning: Dynamical...</td>\n    </tr>\n    <tr>\n      <th>3</th>\n      <td>Best Deep Learning Tools - Welcome.AI</td>\n    </tr>\n    <tr>\n      <th>4</th>\n      <td>Kaggle Live-Coding: RNNs for Sarcasm Detection...</td>\n    </tr>\n    <tr>\n      <th>...</th>\n      <td>...</td>\n    </tr>\n    <tr>\n      <th>496</th>\n      <td>Machine Learning With Python | Machine Learnin...</td>\n    </tr>\n    <tr>\n      <th>497</th>\n      <td>MACHINE LEARNING and AUGMENTED REALITY</td>\n    </tr>\n    <tr>\n      <th>498</th>\n      <td>Kaggle 대회 시작하기 #1</td>\n    </tr>\n    <tr>\n      <th>499</th>\n      <td>The Netacea Approach | Smarter Bot Management ...</td>\n    </tr>\n    <tr>\n      <th>500</th>\n      <td>Stanford CS224N: NLP with Deep Learning | Wint...</td>\n    </tr>\n  </tbody>\n</table>\n<p>498 rows × 1 columns</p>\n</div>"
     },
     "execution_count": 10,
     "metadata": {},
     "output_type": "execute_result"
    }
   ],
   "source": [
    "df_limpo"
   ],
   "metadata": {
    "collapsed": false,
    "pycharm": {
     "name": "#%%\n"
    }
   }
  },
  {
   "cell_type": "markdown",
   "source": [
    "# 1. Limpeza dos Dados"
   ],
   "metadata": {
    "collapsed": false,
    "pycharm": {
     "name": "#%% md\n"
    }
   }
  },
  {
   "cell_type": "code",
   "execution_count": 24,
   "outputs": [],
   "source": [
    "claen_date = df['watch-time-text'].str.extract(r\"(\\d+) de ([a-z]+)\\. de (\\d+)\")"
   ],
   "metadata": {
    "collapsed": false,
    "pycharm": {
     "name": "#%%\n"
    }
   }
  },
  {
   "cell_type": "code",
   "execution_count": 25,
   "outputs": [
    {
     "data": {
      "text/plain": "      0    1     2\n0     3  set  2018\n1    16  nov  2018\n2     2  mai  2019\n3    13  ago  2019\n4    30  nov  2018\n..   ..  ...   ...\n496   1  mar  2018\n497  31  mai  2018\n498  10  nov  2019\n499  25  abr  2019\n500  21  mar  2019\n\n[498 rows x 3 columns]",
      "text/html": "<div>\n<style scoped>\n    .dataframe tbody tr th:only-of-type {\n        vertical-align: middle;\n    }\n\n    .dataframe tbody tr th {\n        vertical-align: top;\n    }\n\n    .dataframe thead th {\n        text-align: right;\n    }\n</style>\n<table border=\"1\" class=\"dataframe\">\n  <thead>\n    <tr style=\"text-align: right;\">\n      <th></th>\n      <th>0</th>\n      <th>1</th>\n      <th>2</th>\n    </tr>\n  </thead>\n  <tbody>\n    <tr>\n      <th>0</th>\n      <td>3</td>\n      <td>set</td>\n      <td>2018</td>\n    </tr>\n    <tr>\n      <th>1</th>\n      <td>16</td>\n      <td>nov</td>\n      <td>2018</td>\n    </tr>\n    <tr>\n      <th>2</th>\n      <td>2</td>\n      <td>mai</td>\n      <td>2019</td>\n    </tr>\n    <tr>\n      <th>3</th>\n      <td>13</td>\n      <td>ago</td>\n      <td>2019</td>\n    </tr>\n    <tr>\n      <th>4</th>\n      <td>30</td>\n      <td>nov</td>\n      <td>2018</td>\n    </tr>\n    <tr>\n      <th>...</th>\n      <td>...</td>\n      <td>...</td>\n      <td>...</td>\n    </tr>\n    <tr>\n      <th>496</th>\n      <td>1</td>\n      <td>mar</td>\n      <td>2018</td>\n    </tr>\n    <tr>\n      <th>497</th>\n      <td>31</td>\n      <td>mai</td>\n      <td>2018</td>\n    </tr>\n    <tr>\n      <th>498</th>\n      <td>10</td>\n      <td>nov</td>\n      <td>2019</td>\n    </tr>\n    <tr>\n      <th>499</th>\n      <td>25</td>\n      <td>abr</td>\n      <td>2019</td>\n    </tr>\n    <tr>\n      <th>500</th>\n      <td>21</td>\n      <td>mar</td>\n      <td>2019</td>\n    </tr>\n  </tbody>\n</table>\n<p>498 rows × 3 columns</p>\n</div>"
     },
     "execution_count": 25,
     "metadata": {},
     "output_type": "execute_result"
    }
   ],
   "source": [
    "claen_date"
   ],
   "metadata": {
    "collapsed": false,
    "pycharm": {
     "name": "#%%\n"
    }
   }
  },
  {
   "cell_type": "code",
   "execution_count": 26,
   "outputs": [],
   "source": [
    "# Tranformando em data do  tipo ddMesAAAA\n",
    "## Tratando dia\n",
    "claen_date[0] = claen_date[0].apply(lambda x: '0'+x if len(x) == 1 else x)"
   ],
   "metadata": {
    "collapsed": false,
    "pycharm": {
     "name": "#%%\n"
    }
   }
  },
  {
   "cell_type": "code",
   "execution_count": 27,
   "outputs": [
    {
     "data": {
      "text/plain": "    0    1     2\n0  03  set  2018\n1  16  nov  2018\n2  02  mai  2019\n3  13  ago  2019\n4  30  nov  2018",
      "text/html": "<div>\n<style scoped>\n    .dataframe tbody tr th:only-of-type {\n        vertical-align: middle;\n    }\n\n    .dataframe tbody tr th {\n        vertical-align: top;\n    }\n\n    .dataframe thead th {\n        text-align: right;\n    }\n</style>\n<table border=\"1\" class=\"dataframe\">\n  <thead>\n    <tr style=\"text-align: right;\">\n      <th></th>\n      <th>0</th>\n      <th>1</th>\n      <th>2</th>\n    </tr>\n  </thead>\n  <tbody>\n    <tr>\n      <th>0</th>\n      <td>03</td>\n      <td>set</td>\n      <td>2018</td>\n    </tr>\n    <tr>\n      <th>1</th>\n      <td>16</td>\n      <td>nov</td>\n      <td>2018</td>\n    </tr>\n    <tr>\n      <th>2</th>\n      <td>02</td>\n      <td>mai</td>\n      <td>2019</td>\n    </tr>\n    <tr>\n      <th>3</th>\n      <td>13</td>\n      <td>ago</td>\n      <td>2019</td>\n    </tr>\n    <tr>\n      <th>4</th>\n      <td>30</td>\n      <td>nov</td>\n      <td>2018</td>\n    </tr>\n  </tbody>\n</table>\n</div>"
     },
     "execution_count": 27,
     "metadata": {},
     "output_type": "execute_result"
    }
   ],
   "source": [
    "claen_date[:5]"
   ],
   "metadata": {
    "collapsed": false,
    "pycharm": {
     "name": "#%%\n"
    }
   }
  },
  {
   "cell_type": "code",
   "execution_count": 28,
   "outputs": [],
   "source": [
    "## Tratando mes\n",
    "mapa_meses = {\"jan\": \"Jan\",\n",
    "              \"fev\": \"Feb\",\n",
    "              \"mar\": \"Mar\",\n",
    "              \"abr\": \"Apr\",\n",
    "              \"mai\": \"May\",\n",
    "              \"jun\": \"Jun\",\n",
    "              \"jul\": \"Jul\",\n",
    "              \"ago\": \"Aug\",\n",
    "              \"set\": \"Sep\",\n",
    "              \"out\": \"Oct\",\n",
    "              \"nov\": \"Nov\",\n",
    "              \"dez\": \"Dec\"}\n",
    "claen_date[1] = claen_date[1].map(mapa_meses)"
   ],
   "metadata": {
    "collapsed": false,
    "pycharm": {
     "name": "#%%\n"
    }
   }
  },
  {
   "cell_type": "code",
   "execution_count": 29,
   "outputs": [
    {
     "data": {
      "text/plain": "    0    1     2\n0  03  Sep  2018\n1  16  Nov  2018\n2  02  May  2019\n3  13  Aug  2019\n4  30  Nov  2018",
      "text/html": "<div>\n<style scoped>\n    .dataframe tbody tr th:only-of-type {\n        vertical-align: middle;\n    }\n\n    .dataframe tbody tr th {\n        vertical-align: top;\n    }\n\n    .dataframe thead th {\n        text-align: right;\n    }\n</style>\n<table border=\"1\" class=\"dataframe\">\n  <thead>\n    <tr style=\"text-align: right;\">\n      <th></th>\n      <th>0</th>\n      <th>1</th>\n      <th>2</th>\n    </tr>\n  </thead>\n  <tbody>\n    <tr>\n      <th>0</th>\n      <td>03</td>\n      <td>Sep</td>\n      <td>2018</td>\n    </tr>\n    <tr>\n      <th>1</th>\n      <td>16</td>\n      <td>Nov</td>\n      <td>2018</td>\n    </tr>\n    <tr>\n      <th>2</th>\n      <td>02</td>\n      <td>May</td>\n      <td>2019</td>\n    </tr>\n    <tr>\n      <th>3</th>\n      <td>13</td>\n      <td>Aug</td>\n      <td>2019</td>\n    </tr>\n    <tr>\n      <th>4</th>\n      <td>30</td>\n      <td>Nov</td>\n      <td>2018</td>\n    </tr>\n  </tbody>\n</table>\n</div>"
     },
     "execution_count": 29,
     "metadata": {},
     "output_type": "execute_result"
    }
   ],
   "source": [
    "claen_date[:5]"
   ],
   "metadata": {
    "collapsed": false,
    "pycharm": {
     "name": "#%%\n"
    }
   }
  },
  {
   "cell_type": "code",
   "execution_count": 17,
   "outputs": [],
   "source": [
    "claen_date = claen_date.apply(lambda x: \" \".join(x), axis=1)"
   ],
   "metadata": {
    "collapsed": false,
    "pycharm": {
     "name": "#%%\n"
    }
   }
  },
  {
   "cell_type": "code",
   "execution_count": 30,
   "outputs": [
    {
     "data": {
      "text/plain": "    0    1     2\n0  03  Sep  2018\n1  16  Nov  2018\n2  02  May  2019\n3  13  Aug  2019\n4  30  Nov  2018",
      "text/html": "<div>\n<style scoped>\n    .dataframe tbody tr th:only-of-type {\n        vertical-align: middle;\n    }\n\n    .dataframe tbody tr th {\n        vertical-align: top;\n    }\n\n    .dataframe thead th {\n        text-align: right;\n    }\n</style>\n<table border=\"1\" class=\"dataframe\">\n  <thead>\n    <tr style=\"text-align: right;\">\n      <th></th>\n      <th>0</th>\n      <th>1</th>\n      <th>2</th>\n    </tr>\n  </thead>\n  <tbody>\n    <tr>\n      <th>0</th>\n      <td>03</td>\n      <td>Sep</td>\n      <td>2018</td>\n    </tr>\n    <tr>\n      <th>1</th>\n      <td>16</td>\n      <td>Nov</td>\n      <td>2018</td>\n    </tr>\n    <tr>\n      <th>2</th>\n      <td>02</td>\n      <td>May</td>\n      <td>2019</td>\n    </tr>\n    <tr>\n      <th>3</th>\n      <td>13</td>\n      <td>Aug</td>\n      <td>2019</td>\n    </tr>\n    <tr>\n      <th>4</th>\n      <td>30</td>\n      <td>Nov</td>\n      <td>2018</td>\n    </tr>\n  </tbody>\n</table>\n</div>"
     },
     "execution_count": 30,
     "metadata": {},
     "output_type": "execute_result"
    }
   ],
   "source": [
    "claen_date[:5]"
   ],
   "metadata": {
    "collapsed": false,
    "pycharm": {
     "name": "#%%\n"
    }
   }
  },
  {
   "cell_type": "code",
   "execution_count": 31,
   "outputs": [
    {
     "ename": "AttributeError",
     "evalue": "'int' object has no attribute 'lower'",
     "output_type": "error",
     "traceback": [
      "\u001B[1;31m---------------------------------------------------------------------------\u001B[0m",
      "\u001B[1;31mAttributeError\u001B[0m                            Traceback (most recent call last)",
      "Input \u001B[1;32mIn [31]\u001B[0m, in \u001B[0;36m<cell line: 1>\u001B[1;34m()\u001B[0m\n\u001B[1;32m----> 1\u001B[0m df_limpo[\u001B[38;5;124m'\u001B[39m\u001B[38;5;124mdate\u001B[39m\u001B[38;5;124m'\u001B[39m] \u001B[38;5;241m=\u001B[39m \u001B[43mpd\u001B[49m\u001B[38;5;241;43m.\u001B[39;49m\u001B[43mto_datetime\u001B[49m\u001B[43m(\u001B[49m\u001B[43mclaen_date\u001B[49m\u001B[43m,\u001B[49m\u001B[43m \u001B[49m\u001B[38;5;28;43mformat\u001B[39;49m\u001B[38;5;241;43m=\u001B[39;49m\u001B[38;5;124;43m'\u001B[39;49m\u001B[38;5;132;43;01m%d\u001B[39;49;00m\u001B[38;5;124;43m \u001B[39;49m\u001B[38;5;124;43m%\u001B[39;49m\u001B[38;5;124;43mb \u001B[39;49m\u001B[38;5;124;43m%\u001B[39;49m\u001B[38;5;124;43mY\u001B[39;49m\u001B[38;5;124;43m'\u001B[39;49m\u001B[43m)\u001B[49m\n",
      "File \u001B[1;32m~\\Documents\\DataProjets\\youtube-recomendation\\venv\\lib\\site-packages\\pandas\\core\\tools\\datetimes.py:1054\u001B[0m, in \u001B[0;36mto_datetime\u001B[1;34m(arg, errors, dayfirst, yearfirst, utc, format, exact, unit, infer_datetime_format, origin, cache)\u001B[0m\n\u001B[0;32m   1052\u001B[0m         result \u001B[38;5;241m=\u001B[39m arg\u001B[38;5;241m.\u001B[39m_constructor(values, index\u001B[38;5;241m=\u001B[39marg\u001B[38;5;241m.\u001B[39mindex, name\u001B[38;5;241m=\u001B[39marg\u001B[38;5;241m.\u001B[39mname)\n\u001B[0;32m   1053\u001B[0m \u001B[38;5;28;01melif\u001B[39;00m \u001B[38;5;28misinstance\u001B[39m(arg, (ABCDataFrame, abc\u001B[38;5;241m.\u001B[39mMutableMapping)):\n\u001B[1;32m-> 1054\u001B[0m     result \u001B[38;5;241m=\u001B[39m \u001B[43m_assemble_from_unit_mappings\u001B[49m\u001B[43m(\u001B[49m\u001B[43marg\u001B[49m\u001B[43m,\u001B[49m\u001B[43m \u001B[49m\u001B[43merrors\u001B[49m\u001B[43m,\u001B[49m\u001B[43m \u001B[49m\u001B[43mtz\u001B[49m\u001B[43m)\u001B[49m\n\u001B[0;32m   1055\u001B[0m \u001B[38;5;28;01melif\u001B[39;00m \u001B[38;5;28misinstance\u001B[39m(arg, Index):\n\u001B[0;32m   1056\u001B[0m     cache_array \u001B[38;5;241m=\u001B[39m _maybe_cache(arg, \u001B[38;5;28mformat\u001B[39m, cache, convert_listlike)\n",
      "File \u001B[1;32m~\\Documents\\DataProjets\\youtube-recomendation\\venv\\lib\\site-packages\\pandas\\core\\tools\\datetimes.py:1152\u001B[0m, in \u001B[0;36m_assemble_from_unit_mappings\u001B[1;34m(arg, errors, tz)\u001B[0m\n\u001B[0;32m   1148\u001B[0m         \u001B[38;5;28;01mreturn\u001B[39;00m _unit_map[value\u001B[38;5;241m.\u001B[39mlower()]\n\u001B[0;32m   1150\u001B[0m     \u001B[38;5;28;01mreturn\u001B[39;00m value\n\u001B[1;32m-> 1152\u001B[0m unit \u001B[38;5;241m=\u001B[39m {k: f(k) \u001B[38;5;28;01mfor\u001B[39;00m k \u001B[38;5;129;01min\u001B[39;00m arg\u001B[38;5;241m.\u001B[39mkeys()}\n\u001B[0;32m   1153\u001B[0m unit_rev \u001B[38;5;241m=\u001B[39m {v: k \u001B[38;5;28;01mfor\u001B[39;00m k, v \u001B[38;5;129;01min\u001B[39;00m unit\u001B[38;5;241m.\u001B[39mitems()}\n\u001B[0;32m   1155\u001B[0m \u001B[38;5;66;03m# we require at least Ymd\u001B[39;00m\n",
      "File \u001B[1;32m~\\Documents\\DataProjets\\youtube-recomendation\\venv\\lib\\site-packages\\pandas\\core\\tools\\datetimes.py:1152\u001B[0m, in \u001B[0;36m<dictcomp>\u001B[1;34m(.0)\u001B[0m\n\u001B[0;32m   1148\u001B[0m         \u001B[38;5;28;01mreturn\u001B[39;00m _unit_map[value\u001B[38;5;241m.\u001B[39mlower()]\n\u001B[0;32m   1150\u001B[0m     \u001B[38;5;28;01mreturn\u001B[39;00m value\n\u001B[1;32m-> 1152\u001B[0m unit \u001B[38;5;241m=\u001B[39m {k: \u001B[43mf\u001B[49m\u001B[43m(\u001B[49m\u001B[43mk\u001B[49m\u001B[43m)\u001B[49m \u001B[38;5;28;01mfor\u001B[39;00m k \u001B[38;5;129;01min\u001B[39;00m arg\u001B[38;5;241m.\u001B[39mkeys()}\n\u001B[0;32m   1153\u001B[0m unit_rev \u001B[38;5;241m=\u001B[39m {v: k \u001B[38;5;28;01mfor\u001B[39;00m k, v \u001B[38;5;129;01min\u001B[39;00m unit\u001B[38;5;241m.\u001B[39mitems()}\n\u001B[0;32m   1155\u001B[0m \u001B[38;5;66;03m# we require at least Ymd\u001B[39;00m\n",
      "File \u001B[1;32m~\\Documents\\DataProjets\\youtube-recomendation\\venv\\lib\\site-packages\\pandas\\core\\tools\\datetimes.py:1147\u001B[0m, in \u001B[0;36m_assemble_from_unit_mappings.<locals>.f\u001B[1;34m(value)\u001B[0m\n\u001B[0;32m   1144\u001B[0m     \u001B[38;5;28;01mreturn\u001B[39;00m _unit_map[value]\n\u001B[0;32m   1146\u001B[0m \u001B[38;5;66;03m# m is case significant\u001B[39;00m\n\u001B[1;32m-> 1147\u001B[0m \u001B[38;5;28;01mif\u001B[39;00m \u001B[43mvalue\u001B[49m\u001B[38;5;241;43m.\u001B[39;49m\u001B[43mlower\u001B[49m() \u001B[38;5;129;01min\u001B[39;00m _unit_map:\n\u001B[0;32m   1148\u001B[0m     \u001B[38;5;28;01mreturn\u001B[39;00m _unit_map[value\u001B[38;5;241m.\u001B[39mlower()]\n\u001B[0;32m   1150\u001B[0m \u001B[38;5;28;01mreturn\u001B[39;00m value\n",
      "\u001B[1;31mAttributeError\u001B[0m: 'int' object has no attribute 'lower'"
     ]
    }
   ],
   "source": [
    "df_limpo['date'] = pd.to_datetime(claen_date, format='%d %b %Y')"
   ],
   "metadata": {
    "collapsed": false,
    "pycharm": {
     "name": "#%%\n"
    }
   }
  },
  {
   "cell_type": "code",
   "execution_count": 34,
   "outputs": [
    {
     "data": {
      "text/plain": "                                               title       date   views\n0  How to Become A Machine Learning Engineer | Ho... 2018-09-03   28028\n1  BLOOPERS - Behind The Scenes. | DATA SCIENCE x... 2018-11-16    1131\n2  Michael I. Jordan: Machine Learning: Dynamical... 2019-05-02    1816\n3              Best Deep Learning Tools - Welcome.AI 2019-08-13    1171\n4  Kaggle Live-Coding: RNNs for Sarcasm Detection... 2018-11-30    1228\n5  Data Mining vs Machine Learning: Top 20 Things... 2019-11-24       2\n6                   Can You Become a Data Scientist? 2018-08-14  430097\n7  Machine Learning In 5 Minutes | Machine Learni... 2019-02-19   88592\n8  Data Science Full Course - Learn Data Science ... 2019-08-18  244516\n9  My 5 favourite Coursera Courses for Python, Da... 2018-08-09   60941",
      "text/html": "<div>\n<style scoped>\n    .dataframe tbody tr th:only-of-type {\n        vertical-align: middle;\n    }\n\n    .dataframe tbody tr th {\n        vertical-align: top;\n    }\n\n    .dataframe thead th {\n        text-align: right;\n    }\n</style>\n<table border=\"1\" class=\"dataframe\">\n  <thead>\n    <tr style=\"text-align: right;\">\n      <th></th>\n      <th>title</th>\n      <th>date</th>\n      <th>views</th>\n    </tr>\n  </thead>\n  <tbody>\n    <tr>\n      <th>0</th>\n      <td>How to Become A Machine Learning Engineer | Ho...</td>\n      <td>2018-09-03</td>\n      <td>28028</td>\n    </tr>\n    <tr>\n      <th>1</th>\n      <td>BLOOPERS - Behind The Scenes. | DATA SCIENCE x...</td>\n      <td>2018-11-16</td>\n      <td>1131</td>\n    </tr>\n    <tr>\n      <th>2</th>\n      <td>Michael I. Jordan: Machine Learning: Dynamical...</td>\n      <td>2019-05-02</td>\n      <td>1816</td>\n    </tr>\n    <tr>\n      <th>3</th>\n      <td>Best Deep Learning Tools - Welcome.AI</td>\n      <td>2019-08-13</td>\n      <td>1171</td>\n    </tr>\n    <tr>\n      <th>4</th>\n      <td>Kaggle Live-Coding: RNNs for Sarcasm Detection...</td>\n      <td>2018-11-30</td>\n      <td>1228</td>\n    </tr>\n    <tr>\n      <th>5</th>\n      <td>Data Mining vs Machine Learning: Top 20 Things...</td>\n      <td>2019-11-24</td>\n      <td>2</td>\n    </tr>\n    <tr>\n      <th>6</th>\n      <td>Can You Become a Data Scientist?</td>\n      <td>2018-08-14</td>\n      <td>430097</td>\n    </tr>\n    <tr>\n      <th>7</th>\n      <td>Machine Learning In 5 Minutes | Machine Learni...</td>\n      <td>2019-02-19</td>\n      <td>88592</td>\n    </tr>\n    <tr>\n      <th>8</th>\n      <td>Data Science Full Course - Learn Data Science ...</td>\n      <td>2019-08-18</td>\n      <td>244516</td>\n    </tr>\n    <tr>\n      <th>9</th>\n      <td>My 5 favourite Coursera Courses for Python, Da...</td>\n      <td>2018-08-09</td>\n      <td>60941</td>\n    </tr>\n  </tbody>\n</table>\n</div>"
     },
     "execution_count": 34,
     "metadata": {},
     "output_type": "execute_result"
    }
   ],
   "source": [
    "df_limpo[:10]"
   ],
   "metadata": {
    "collapsed": false,
    "pycharm": {
     "name": "#%%\n"
    }
   }
  },
  {
   "cell_type": "markdown",
   "source": [
    "# 2. Limpesa de Views"
   ],
   "metadata": {
    "collapsed": false,
    "pycharm": {
     "name": "#%% md\n"
    }
   }
  },
  {
   "cell_type": "code",
   "execution_count": 35,
   "outputs": [
    {
     "name": "stderr",
     "output_type": "stream",
     "text": [
      "C:\\Users\\Vinicius\\AppData\\Local\\Temp\\ipykernel_85928\\1503155676.py:1: FutureWarning: The default value of regex will change from True to False in a future version. In addition, single character regular expressions will *not* be treated as literal strings when regex=True.\n",
      "  views = df['watch-view-count'].str.extract(r\"(\\d+\\.?\\d*)\", expand=False).str.replace('.','').fillna(0).astype(int)\n"
     ]
    }
   ],
   "source": [
    "views = df['watch-view-count'].str.extract(r\"(\\d+\\.?\\d*)\", expand=False).str.replace('.','').fillna(0).astype(int)\n",
    "df_limpo['views'] = views"
   ],
   "metadata": {
    "collapsed": false,
    "pycharm": {
     "name": "#%%\n"
    }
   }
  },
  {
   "cell_type": "code",
   "execution_count": 36,
   "outputs": [
    {
     "data": {
      "text/plain": "                                               title       date  views\n3              Best Deep Learning Tools - Welcome.AI 2019-08-13   1171\n2  Michael I. Jordan: Machine Learning: Dynamical... 2019-05-02   1816\n4  Kaggle Live-Coding: RNNs for Sarcasm Detection... 2018-11-30   1228\n1  BLOOPERS - Behind The Scenes. | DATA SCIENCE x... 2018-11-16   1131\n0  How to Become A Machine Learning Engineer | Ho... 2018-09-03  28028",
      "text/html": "<div>\n<style scoped>\n    .dataframe tbody tr th:only-of-type {\n        vertical-align: middle;\n    }\n\n    .dataframe tbody tr th {\n        vertical-align: top;\n    }\n\n    .dataframe thead th {\n        text-align: right;\n    }\n</style>\n<table border=\"1\" class=\"dataframe\">\n  <thead>\n    <tr style=\"text-align: right;\">\n      <th></th>\n      <th>title</th>\n      <th>date</th>\n      <th>views</th>\n    </tr>\n  </thead>\n  <tbody>\n    <tr>\n      <th>3</th>\n      <td>Best Deep Learning Tools - Welcome.AI</td>\n      <td>2019-08-13</td>\n      <td>1171</td>\n    </tr>\n    <tr>\n      <th>2</th>\n      <td>Michael I. Jordan: Machine Learning: Dynamical...</td>\n      <td>2019-05-02</td>\n      <td>1816</td>\n    </tr>\n    <tr>\n      <th>4</th>\n      <td>Kaggle Live-Coding: RNNs for Sarcasm Detection...</td>\n      <td>2018-11-30</td>\n      <td>1228</td>\n    </tr>\n    <tr>\n      <th>1</th>\n      <td>BLOOPERS - Behind The Scenes. | DATA SCIENCE x...</td>\n      <td>2018-11-16</td>\n      <td>1131</td>\n    </tr>\n    <tr>\n      <th>0</th>\n      <td>How to Become A Machine Learning Engineer | Ho...</td>\n      <td>2018-09-03</td>\n      <td>28028</td>\n    </tr>\n  </tbody>\n</table>\n</div>"
     },
     "execution_count": 36,
     "metadata": {},
     "output_type": "execute_result"
    }
   ],
   "source": [
    "df_limpo.head().sort_values('date', ascending=False)"
   ],
   "metadata": {
    "collapsed": false,
    "pycharm": {
     "name": "#%%\n"
    }
   }
  },
  {
   "cell_type": "markdown",
   "source": [
    "# 3. Features"
   ],
   "metadata": {
    "collapsed": false,
    "pycharm": {
     "name": "#%% md\n"
    }
   }
  },
  {
   "cell_type": "code",
   "execution_count": 37,
   "outputs": [],
   "source": [
    "features = pd.DataFrame(index=df_limpo.index)\n",
    "y= df['y'].copy()\n"
   ],
   "metadata": {
    "collapsed": false,
    "pycharm": {
     "name": "#%%\n"
    }
   }
  },
  {
   "cell_type": "code",
   "execution_count": 39,
   "outputs": [],
   "source": [
    "features['tempo_desde_pub'] = (pd.to_datetime('2019-12-03') - df_limpo['date'])/np.timedelta64(1,'D')\n",
    "features['views'] = df_limpo['views']\n",
    "features['views_por_dia'] = features['views'] / features['tempo_desde_pub']\n",
    "features.drop('tempo_desde_pub', axis=1, inplace=True)\n"
   ],
   "metadata": {
    "collapsed": false,
    "pycharm": {
     "name": "#%%\n"
    }
   }
  },
  {
   "cell_type": "code",
   "execution_count": 41,
   "outputs": [
    {
     "data": {
      "text/plain": "   views  views_por_dia\n0  28028      61.464912\n1   1131       2.960733\n2   1816       8.446512\n3   1171      10.455357\n4   1228       3.336957",
      "text/html": "<div>\n<style scoped>\n    .dataframe tbody tr th:only-of-type {\n        vertical-align: middle;\n    }\n\n    .dataframe tbody tr th {\n        vertical-align: top;\n    }\n\n    .dataframe thead th {\n        text-align: right;\n    }\n</style>\n<table border=\"1\" class=\"dataframe\">\n  <thead>\n    <tr style=\"text-align: right;\">\n      <th></th>\n      <th>views</th>\n      <th>views_por_dia</th>\n    </tr>\n  </thead>\n  <tbody>\n    <tr>\n      <th>0</th>\n      <td>28028</td>\n      <td>61.464912</td>\n    </tr>\n    <tr>\n      <th>1</th>\n      <td>1131</td>\n      <td>2.960733</td>\n    </tr>\n    <tr>\n      <th>2</th>\n      <td>1816</td>\n      <td>8.446512</td>\n    </tr>\n    <tr>\n      <th>3</th>\n      <td>1171</td>\n      <td>10.455357</td>\n    </tr>\n    <tr>\n      <th>4</th>\n      <td>1228</td>\n      <td>3.336957</td>\n    </tr>\n  </tbody>\n</table>\n</div>"
     },
     "execution_count": 41,
     "metadata": {},
     "output_type": "execute_result"
    }
   ],
   "source": [
    "features.head()"
   ],
   "metadata": {
    "collapsed": false,
    "pycharm": {
     "name": "#%%\n"
    }
   }
  },
  {
   "cell_type": "code",
   "execution_count": 42,
   "outputs": [
    {
     "data": {
      "text/plain": "((228, 2), (270, 2), (228, 2), (270, 2))"
     },
     "execution_count": 42,
     "metadata": {},
     "output_type": "execute_result"
    }
   ],
   "source": [
    "mask_train = df_limpo['date'] < \"2019-04-01\"\n",
    "mask_val = df_limpo['date'] >= \"2019-04-01\"\n",
    "\n",
    "Xtrain, Xval = features[mask_train], features[mask_val]\n",
    "ytrain, yval = features[mask_train], features[mask_val]\n",
    "Xtrain.shape, Xval.shape, ytrain.shape, yval.shape"
   ],
   "metadata": {
    "collapsed": false,
    "pycharm": {
     "name": "#%%\n"
    }
   }
  },
  {
   "cell_type": "code",
   "execution_count": 45,
   "outputs": [],
   "source": [
    "from sklearn.feature_extraction.text import TfidfVectorizer\n",
    "\n",
    "title_train =df_limpo[mask_train]['title']\n",
    "title_val = df_limpo[mask_val]['title']\n"
   ],
   "metadata": {
    "collapsed": false,
    "pycharm": {
     "name": "#%%\n"
    }
   }
  },
  {
   "cell_type": "code",
   "execution_count": 50,
   "outputs": [],
   "source": [
    "title_vec = TfidfVectorizer(min_df=2)\n",
    "\n",
    "title_bow_train =title_vec.fit_transform(title_train)\n",
    "title_bow_val =title_vec.transform(title_val)"
   ],
   "metadata": {
    "collapsed": false,
    "pycharm": {
     "name": "#%%\n"
    }
   }
  },
  {
   "cell_type": "code",
   "execution_count": 51,
   "outputs": [
    {
     "data": {
      "text/plain": "(228, 193)"
     },
     "execution_count": 51,
     "metadata": {},
     "output_type": "execute_result"
    }
   ],
   "source": [
    "title_bow_train.shape"
   ],
   "metadata": {
    "collapsed": false,
    "pycharm": {
     "name": "#%%\n"
    }
   }
  },
  {
   "cell_type": "code",
   "execution_count": null,
   "outputs": [],
   "source": [],
   "metadata": {
    "collapsed": false,
    "pycharm": {
     "name": "#%%\n"
    }
   }
  }
 ],
 "metadata": {
  "kernelspec": {
   "display_name": "Python 3",
   "language": "python",
   "name": "python3"
  },
  "language_info": {
   "codemirror_mode": {
    "name": "ipython",
    "version": 2
   },
   "file_extension": ".py",
   "mimetype": "text/x-python",
   "name": "python",
   "nbconvert_exporter": "python",
   "pygments_lexer": "ipython2",
   "version": "2.7.6"
  }
 },
 "nbformat": 4,
 "nbformat_minor": 0
}